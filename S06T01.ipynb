{
 "cells": [
  {
   "cell_type": "markdown",
   "id": "96bbb992",
   "metadata": {},
   "source": [
    "# S06 T01: Tasca dades, probabilitats i estadístiques"
   ]
  },
  {
   "cell_type": "markdown",
   "id": "cbdd29d2",
   "metadata": {},
   "source": [
    "## Apunts meus"
   ]
  },
  {
   "cell_type": "markdown",
   "id": "012926d3",
   "metadata": {},
   "source": [
    "Les dades poden ser qualitatives i quantitatives. Les dades qualitatives es informació descriptiva, i les dades quantitatives es informació numèrica."
   ]
  },
  {
   "cell_type": "markdown",
   "id": "860c1e71",
   "metadata": {},
   "source": [
    "Les dades quantitatives poden ser discretes o continues. Les dades discretes nomes poden adoptar certs valors, com números enters. Les dades continues poden adoptar qualsevol valor dins d'un rang."
   ]
  },
  {
   "cell_type": "markdown",
   "id": "364f4f95",
   "metadata": {},
   "source": [
    "En resum, les dades discretes es compten i les dades continues es medeixen"
   ]
  },
  {
   "cell_type": "markdown",
   "id": "fc7e9860",
   "metadata": {},
   "source": [
    "### Grafics"
   ]
  },
  {
   "cell_type": "markdown",
   "id": "6c200223",
   "metadata": {},
   "source": [
    "El grafics de barras es fan servir per visualitzar dades categòriques, o com a histograma quan son dades continues.\n",
    "Un histograma mostra la forma de les dades."
   ]
  },
  {
   "cell_type": "markdown",
   "id": "7d4f0e07",
   "metadata": {},
   "source": [
    "Els grafics circulars son per mostrar tamany relatius amb porcions circulars."
   ]
  },
  {
   "cell_type": "markdown",
   "id": "567be259",
   "metadata": {},
   "source": [
    "Els diagrames de punts es una visualització gràfica mitjançant punts. Si tenim una gran varietat de punts, podem agrupar valor arrodonin-los."
   ]
  },
  {
   "cell_type": "markdown",
   "id": "00e7e14c",
   "metadata": {},
   "source": [
    "Els gràfics de linies visualitzen informació conectada d'alguna forma, generalment a mesura que canvia el temps. Registre de temperatura, despeses diaries, ..."
   ]
  },
  {
   "cell_type": "markdown",
   "id": "4d368335",
   "metadata": {},
   "source": [
    "Els grafics de dispersió tenen punts que mostren la relació entre dos conjunts de dades, com per exemple el pes d'una persona envers la seva altura. Un altre exemple podría ser va venta de gelats en € envers la temperatura exterior (graus c). També podem dibuixar la linia de millor ajust o linia de tendencia. La linia te que estar lo mes aprop possible de tots els punts, i tants pount per sobre de la linia com per abaix. Per una major precisió podem calcular la linia utilitzan la Regresió de mínims quadrats i la calculadora de mínims quadrats."
   ]
  },
  {
   "cell_type": "markdown",
   "id": "2fc1f4dc",
   "metadata": {},
   "source": [
    "Interpolació: es on trobem un valor dins del nostre conjunt de valors"
   ]
  },
  {
   "cell_type": "markdown",
   "id": "4af3b030",
   "metadata": {},
   "source": [
    "Extrapolació: es on trobem un valor fora de nostre conjunt de valors. La extrapolació ens por donar valors erronis, ja que estem en terreny desconegut."
   ]
  },
  {
   "cell_type": "markdown",
   "id": "8eaac84a",
   "metadata": {},
   "source": [
    "Correlació: Quan dos conjunts de dades estan fortament vinculats, diem que tenen una alta correlació. La correlació es positiva quan els valors augmenten juts, i negativa quan el valor disminueix a mesura que l'altre augmenta. (https://www.mathsisfun.com/data/scatter-xy-plots.html)"
   ]
  },
  {
   "cell_type": "markdown",
   "id": "70dfec94",
   "metadata": {},
   "source": [
    "Pictograma: Un pictograma es una forma de visualitzar dades utilitzan imátges. Cada imatge representa un cert nombre de coses."
   ]
  },
  {
   "cell_type": "markdown",
   "id": "29085dc6",
   "metadata": {},
   "source": [
    "Histograma: Es similar a un gràfic de barres, però un histograma agrupa números en rangs. L'altura de cada barra mostra quans cauen en cada rang, i tu decideixes quans rangs fer servir."
   ]
  },
  {
   "cell_type": "markdown",
   "id": "62341f6c",
   "metadata": {},
   "source": [
    "Distribució de frecuencia. La frecuencia es la frecuencia amb la que passa algo. Contant les frecuencies podemos fer una taula de distribució de frecuencies."
   ]
  },
  {
   "cell_type": "markdown",
   "id": "2c15332a",
   "metadata": {},
   "source": [
    "### Provabilitats i estadístiques"
   ]
  },
  {
   "cell_type": "markdown",
   "id": "28c57b49",
   "metadata": {},
   "source": [
    "Mitja: es la suma dels números dividit pel nº de números."
   ]
  },
  {
   "cell_type": "markdown",
   "id": "276002d6",
   "metadata": {},
   "source": [
    "Mitjana: simplement enumera tots els números en ordre i agafa el del mitg, si hi han dos números, fes el promitg dels dos."
   ]
  },
  {
   "cell_type": "markdown",
   "id": "56e6eedc",
   "metadata": {},
   "source": [
    "La moda: Es el valor que succeeix amb mes freqüencia"
   ]
  },
  {
   "cell_type": "markdown",
   "id": "cf5faf4f",
   "metadata": {},
   "source": [
    "Taula de frequencies agrupades: Agrupa entre dos valors quans cops passa algo"
   ]
  },
  {
   "cell_type": "markdown",
   "id": "8151ed11",
   "metadata": {},
   "source": [
    "Valors atipics: Son valors que es troben fora dels altres valors"
   ]
  },
  {
   "cell_type": "markdown",
   "id": "47bca08a",
   "metadata": {},
   "source": [
    "La mitja, la mitjana i la moda son les formas mes comuns de medir el valor central, però existeixen altres formes."
   ]
  },
  {
   "cell_type": "markdown",
   "id": "1d9bf8e2",
   "metadata": {},
   "source": [
    "La mitjana geomètrica es un tipus especial de promitg en el que multipliquem els números i despres treiem una arrel quadrada (per dos números), una arrel cúbica (per tres nùmeros), etc ..."
   ]
  },
  {
   "cell_type": "markdown",
   "id": "e9b182df",
   "metadata": {},
   "source": [
    "La mitjana geomètrica es útil quan volem comparar coses amb propietats molt diferents. Exemple: Una cámara te un zoom de 200 i obte un 8 en les enquestes. L'altre te un zoom de 250 i obté un 6 en les enquestes. Comparant amb lo habitual significat aritmetic dona (200+8)/2 = 104 en front a (250+6)/2 = 128 . El zoom es un número tant gran que la calificación de l'usuari es piert. Però les mitjes geométriques de las dos càmares son √(200 × 8) = 40 i √(250 × 6) = 38,7 "
   ]
  },
  {
   "cell_type": "markdown",
   "id": "9556ec06",
   "metadata": {},
   "source": [
    "La mesura armònica es l'invers de la mitja dels inversos (o reciproc). Significa 1/Valor. La formula es: Mirja armònica = n / ( 1/a + 1/b + 1/c + ... ) , on a,b,c,... son els valors i n es el número de valors. Aquesta mitja es bona per utilitzar grans valors atipics, pero els petits ho empitjoren tot."
   ]
  },
  {
   "cell_type": "markdown",
   "id": "53e6e181",
   "metadata": {},
   "source": [
    "Mitjana ponderada: Es quan a cada valor de li donem una importancia diferent. https://www.mathsisfun.com/data/weighted-mean.html"
   ]
  },
  {
   "cell_type": "markdown",
   "id": "e6cbaf6b",
   "metadata": {},
   "source": [
    "EL rang: Es la diferencia entre el valor mes baix i el valor mes alt. El rang por se enganyos quan hi han valors extramadament alts o baixos, per tant es millor que utilitzem el tang interquadratic (Quartils) o desviació estandar. "
   ]
  },
  {
   "cell_type": "markdown",
   "id": "4aae8cec",
   "metadata": {},
   "source": [
    "Quartils: Els cuartils son els valor que divideixen una llista de números en quarts. Posa la llista de números en ordre, despres talla la llista en 4 parts iguals. El quartils están en els talls. Q1 es el quartil baix, Q2 es el quartil del mitg (Mitjana) i Q3 es el quartil alt. https://www.mathsisfun.com/data/quartiles.html"
   ]
  },
  {
   "cell_type": "markdown",
   "id": "3802a9df",
   "metadata": {},
   "source": [
    "Diagrama de caixa i bigoti: Es una manera de visualitzar els valors dels quartils i els valors que queden a fora tant per dalt com per abaix. https://www.mathsisfun.com/data/quartiles.html"
   ]
  },
  {
   "cell_type": "markdown",
   "id": "5e5801a1",
   "metadata": {},
   "source": [
    "Desviació Estandar: Es una mesura de quan dispersos están els números. Es l'arrel quadrada de la Varianza. https://www.mathsisfun.com/data/standard-deviation.html i https://www.mathsisfun.com/data/standard-normal-distribution.html"
   ]
  },
  {
   "cell_type": "markdown",
   "id": "eb816f8f",
   "metadata": {},
   "source": [
    "La Varianza es el promitg de les diferencies al quadrat de la mitja. https://www.mathsisfun.com/data/standard-deviation.html"
   ]
  },
  {
   "cell_type": "markdown",
   "id": "7acc841b",
   "metadata": {},
   "source": [
    "Dades univariades i bivariades: Univariades significa una varible, un tipus de dada, exemple, minuts de vol, o pes. Bivariades tenim dos conjunts de dades relacionades que volem comparar, exemple, temperatura amb venta € de gelats."
   ]
  },
  {
   "cell_type": "markdown",
   "id": "9fa49957",
   "metadata": {},
   "source": [
    "Amb dades univariades podem fer: Trobar un valor central utilitzant la mitja , la mitjana i la moda.\n",
    "Trobar quant dispersos estan fent servir el rang , els quartis i la desviació estándar. Fes diagrames com gràfics de barres , gràfics circulars i histogrames"
   ]
  },
  {
   "cell_type": "markdown",
   "id": "d98d3735",
   "metadata": {},
   "source": [
    "Amb dades bivariables podem fer servir taules, diagrames de dispersió, correlació, linia de major ajust i el simple sentit comú"
   ]
  },
  {
   "cell_type": "markdown",
   "id": "eb41dbc7",
   "metadata": {},
   "source": [
    "Valors atípics (Outliers) son valors que es troben fora dels altres valors, que estan lluny del grup principal de dades. Quan eliminem els valors atípics, estame canviant les dades, i ja no son \"purs\", ¡aixi que no hauriem simplement de desfer-nos dels valors atípics sense una bona raó! I quan ens desfem d'ell, tenim que explicar el que estem fent i perque."
   ]
  },
  {
   "cell_type": "markdown",
   "id": "00e4006d",
   "metadata": {},
   "source": [
    "Linia de provabilitat: La provabilitat es la posibilitat de que algo succeeixi, i es pot representar en una linia, on 0 es impossible i 1 es cert. Es pot fraccionar en fraccions, porcentuals o decimals."
   ]
  },
  {
   "cell_type": "markdown",
   "id": "92454cd0",
   "metadata": {},
   "source": [
    "El principi bàsic de conteig. Quan hi han m formas de fer una cosa i n formas de fer un altre, aleshores hi han m x n formes de fer les dos coses. Exemple, tens 3 camises i 4 pantalons, en total tens 12 conjunts diferents. Però nomes funciona quan totes les opcions son independents entre sí."
   ]
  },
  {
   "cell_type": "markdown",
   "id": "abd7ea2f",
   "metadata": {},
   "source": [
    "Freqüencia relativa: Amb quina freqüencia succeeix algo dividit per tots els resultats, exemple, el teu equip ha guanyat 9 partits de un total de 12 jugats, la frecuencua de guanyar es 9, la freqüencia relativa de guanyar es de 9/12 = 0,75 = (75%)"
   ]
  },
  {
   "cell_type": "markdown",
   "id": "ffcaa94d",
   "metadata": {},
   "source": [
    "Un altre exemple: 92 persones com arriben al treball, 35 amb cotxe, 42 bus, 8 amb bici i 7 caminan. Les freqüencies relatives son: cotxe 35/02 = 0,38 , Bus 42/92 = 0,46 , Bici 8/92 = 0,09 , Caminan 7/92 = 0,08. La suma de les freqüencies te que ser 1."
   ]
  },
  {
   "cell_type": "markdown",
   "id": "a37d7f09",
   "metadata": {},
   "source": [
    "Distribució normal: Es quan les dades tendeixen a estar al voltant de un valor central sense sesgo a la dreta ni a l'esquerra. La distribució normal te: mitja = mitjana = moda , simetría sobre el centre, 50% de valors menors que la mitja i 50% majors que la mitja. https://www.mathsisfun.com/data/standard-normal-distribution.html"
   ]
  },
  {
   "cell_type": "markdown",
   "id": "ec00c803",
   "metadata": {},
   "source": [
    "### Descripció: Aprèn a realitzar estadístiques amb Python."
   ]
  },
  {
   "cell_type": "markdown",
   "id": "292f65a8",
   "metadata": {},
   "source": [
    "## Exercici 1:"
   ]
  },
  {
   "cell_type": "markdown",
   "id": "769ebd32",
   "metadata": {},
   "source": [
    "### Agafa un conjunt de dades de tema esportiu que t'agradi i selecciona un atribut del conjunt de dades. Calcula la moda, la mediana, la desviació estàndard i la mitjana aritmètica. "
   ]
  },
  {
   "cell_type": "markdown",
   "id": "841e9dfc",
   "metadata": {},
   "source": [
    "### He agafat un dataset propi de les dades d'acces dels usuaris a un servidor, les dades son nomes d'un dia"
   ]
  },
  {
   "cell_type": "markdown",
   "id": "1d89ca66",
   "metadata": {},
   "source": [
    "#### Carreguem les dades del dataset"
   ]
  },
  {
   "cell_type": "code",
   "execution_count": 4,
   "id": "aab7f793",
   "metadata": {},
   "outputs": [],
   "source": [
    "import urllib\n",
    "import numpy as np\n",
    "import pandas as pd\n",
    "import matplotlib.pyplot as plt\n",
    "import seaborn as sns\n",
    "import statistics\n",
    "from statistics import mode\n"
   ]
  },
  {
   "cell_type": "code",
   "execution_count": 5,
   "id": "41723d59",
   "metadata": {},
   "outputs": [
    {
     "name": "stdout",
     "output_type": "stream",
     "text": [
      "WARNING *** OLE2 inconsistency: SSCS size is 0 but SSAT size is non-zero\n"
     ]
    },
    {
     "data": {
      "text/html": [
       "<div>\n",
       "<style scoped>\n",
       "    .dataframe tbody tr th:only-of-type {\n",
       "        vertical-align: middle;\n",
       "    }\n",
       "\n",
       "    .dataframe tbody tr th {\n",
       "        vertical-align: top;\n",
       "    }\n",
       "\n",
       "    .dataframe thead th {\n",
       "        text-align: right;\n",
       "    }\n",
       "</style>\n",
       "<table border=\"1\" class=\"dataframe\">\n",
       "  <thead>\n",
       "    <tr style=\"text-align: right;\">\n",
       "      <th></th>\n",
       "      <th>Fe_Al</th>\n",
       "      <th>ID_Ses</th>\n",
       "      <th>ID_Us</th>\n",
       "      <th>ID_Neg</th>\n",
       "      <th>ID_Emp</th>\n",
       "      <th>ID_Cont</th>\n",
       "      <th>EsCli</th>\n",
       "      <th>EsTrabajador</th>\n",
       "      <th>EsProv</th>\n",
       "      <th>EsAdm</th>\n",
       "      <th>...</th>\n",
       "      <th>ID_Apa</th>\n",
       "      <th>ID_Aci</th>\n",
       "      <th>EsSet</th>\n",
       "      <th>ID_App</th>\n",
       "      <th>EsGlobal</th>\n",
       "      <th>ErrVali</th>\n",
       "      <th>ID_TrafI</th>\n",
       "      <th>Hora</th>\n",
       "      <th>SinDat</th>\n",
       "      <th>Test</th>\n",
       "    </tr>\n",
       "    <tr>\n",
       "      <th>ID_TrafO</th>\n",
       "      <th></th>\n",
       "      <th></th>\n",
       "      <th></th>\n",
       "      <th></th>\n",
       "      <th></th>\n",
       "      <th></th>\n",
       "      <th></th>\n",
       "      <th></th>\n",
       "      <th></th>\n",
       "      <th></th>\n",
       "      <th></th>\n",
       "      <th></th>\n",
       "      <th></th>\n",
       "      <th></th>\n",
       "      <th></th>\n",
       "      <th></th>\n",
       "      <th></th>\n",
       "      <th></th>\n",
       "      <th></th>\n",
       "      <th></th>\n",
       "      <th></th>\n",
       "    </tr>\n",
       "  </thead>\n",
       "  <tbody>\n",
       "    <tr>\n",
       "      <th>84495</th>\n",
       "      <td>2022-05-31 07:03:25.420000000</td>\n",
       "      <td>0</td>\n",
       "      <td>0</td>\n",
       "      <td>80</td>\n",
       "      <td>0</td>\n",
       "      <td>0</td>\n",
       "      <td>0</td>\n",
       "      <td>-1</td>\n",
       "      <td>0</td>\n",
       "      <td>0</td>\n",
       "      <td>...</td>\n",
       "      <td>11</td>\n",
       "      <td>3448</td>\n",
       "      <td>0</td>\n",
       "      <td>4</td>\n",
       "      <td>-1</td>\n",
       "      <td>0</td>\n",
       "      <td>84497</td>\n",
       "      <td>7</td>\n",
       "      <td>0</td>\n",
       "      <td>0</td>\n",
       "    </tr>\n",
       "    <tr>\n",
       "      <th>84529</th>\n",
       "      <td>2022-05-31 07:03:35.553000000</td>\n",
       "      <td>0</td>\n",
       "      <td>0</td>\n",
       "      <td>80</td>\n",
       "      <td>0</td>\n",
       "      <td>0</td>\n",
       "      <td>0</td>\n",
       "      <td>-1</td>\n",
       "      <td>0</td>\n",
       "      <td>0</td>\n",
       "      <td>...</td>\n",
       "      <td>448</td>\n",
       "      <td>3454</td>\n",
       "      <td>0</td>\n",
       "      <td>4</td>\n",
       "      <td>-1</td>\n",
       "      <td>0</td>\n",
       "      <td>84530</td>\n",
       "      <td>7</td>\n",
       "      <td>0</td>\n",
       "      <td>0</td>\n",
       "    </tr>\n",
       "    <tr>\n",
       "      <th>87842</th>\n",
       "      <td>2022-05-31 07:19:55.297000000</td>\n",
       "      <td>3891718</td>\n",
       "      <td>10880</td>\n",
       "      <td>40</td>\n",
       "      <td>0</td>\n",
       "      <td>0</td>\n",
       "      <td>0</td>\n",
       "      <td>-1</td>\n",
       "      <td>0</td>\n",
       "      <td>-1</td>\n",
       "      <td>...</td>\n",
       "      <td>34</td>\n",
       "      <td>80</td>\n",
       "      <td>0</td>\n",
       "      <td>1</td>\n",
       "      <td>0</td>\n",
       "      <td>0</td>\n",
       "      <td>87838</td>\n",
       "      <td>7</td>\n",
       "      <td>0</td>\n",
       "      <td>0</td>\n",
       "    </tr>\n",
       "    <tr>\n",
       "      <th>87854</th>\n",
       "      <td>2022-05-31 07:19:59.003000000</td>\n",
       "      <td>3891718</td>\n",
       "      <td>10880</td>\n",
       "      <td>40</td>\n",
       "      <td>0</td>\n",
       "      <td>0</td>\n",
       "      <td>0</td>\n",
       "      <td>-1</td>\n",
       "      <td>0</td>\n",
       "      <td>-1</td>\n",
       "      <td>...</td>\n",
       "      <td>153</td>\n",
       "      <td>858</td>\n",
       "      <td>0</td>\n",
       "      <td>1</td>\n",
       "      <td>0</td>\n",
       "      <td>0</td>\n",
       "      <td>87855</td>\n",
       "      <td>7</td>\n",
       "      <td>0</td>\n",
       "      <td>0</td>\n",
       "    </tr>\n",
       "    <tr>\n",
       "      <th>102126</th>\n",
       "      <td>2022-05-31 08:30:39.293000000</td>\n",
       "      <td>3891888</td>\n",
       "      <td>6641</td>\n",
       "      <td>55</td>\n",
       "      <td>0</td>\n",
       "      <td>0</td>\n",
       "      <td>0</td>\n",
       "      <td>-1</td>\n",
       "      <td>0</td>\n",
       "      <td>0</td>\n",
       "      <td>...</td>\n",
       "      <td>65</td>\n",
       "      <td>258</td>\n",
       "      <td>0</td>\n",
       "      <td>1</td>\n",
       "      <td>0</td>\n",
       "      <td>0</td>\n",
       "      <td>102127</td>\n",
       "      <td>8</td>\n",
       "      <td>0</td>\n",
       "      <td>0</td>\n",
       "    </tr>\n",
       "  </tbody>\n",
       "</table>\n",
       "<p>5 rows × 30 columns</p>\n",
       "</div>"
      ],
      "text/plain": [
       "                                  Fe_Al   ID_Ses  ID_Us  ID_Neg  ID_Emp  \\\n",
       "ID_TrafO                                                                  \n",
       "84495     2022-05-31 07:03:25.420000000        0      0      80       0   \n",
       "84529     2022-05-31 07:03:35.553000000        0      0      80       0   \n",
       "87842     2022-05-31 07:19:55.297000000  3891718  10880      40       0   \n",
       "87854     2022-05-31 07:19:59.003000000  3891718  10880      40       0   \n",
       "102126    2022-05-31 08:30:39.293000000  3891888   6641      55       0   \n",
       "\n",
       "          ID_Cont  EsCli  EsTrabajador  EsProv  EsAdm  ...  ID_Apa  ID_Aci  \\\n",
       "ID_TrafO                                               ...                   \n",
       "84495           0      0            -1       0      0  ...      11    3448   \n",
       "84529           0      0            -1       0      0  ...     448    3454   \n",
       "87842           0      0            -1       0     -1  ...      34      80   \n",
       "87854           0      0            -1       0     -1  ...     153     858   \n",
       "102126          0      0            -1       0      0  ...      65     258   \n",
       "\n",
       "          EsSet  ID_App  EsGlobal  ErrVali ID_TrafI  Hora  SinDat  Test  \n",
       "ID_TrafO                                                                 \n",
       "84495         0       4        -1        0    84497     7       0     0  \n",
       "84529         0       4        -1        0    84530     7       0     0  \n",
       "87842         0       1         0        0    87838     7       0     0  \n",
       "87854         0       1         0        0    87855     7       0     0  \n",
       "102126        0       1         0        0   102127     8       0     0  \n",
       "\n",
       "[5 rows x 30 columns]"
      ]
     },
     "execution_count": 5,
     "metadata": {},
     "output_type": "execute_result"
    }
   ],
   "source": [
    "traf=pd.read_excel('datatrafico.xls', index_col=0)\n",
    "traf.head()"
   ]
  },
  {
   "cell_type": "markdown",
   "id": "e523a9f0",
   "metadata": {},
   "source": [
    "#### Descripción de les columnes:"
   ]
  },
  {
   "cell_type": "code",
   "execution_count": 6,
   "id": "809e18bc",
   "metadata": {},
   "outputs": [
    {
     "name": "stdout",
     "output_type": "stream",
     "text": [
      "['Fe_Al', 'ID_Ses', 'ID_Us', 'ID_Neg', 'ID_Emp', 'ID_Cont', 'EsCli', 'EsTrabajador', 'EsProv', 'EsAdm', 'EsAgente', 'EsTecnico', 'Durada', 'BytesI', 'BytesO', 'BytesOsl', 'IP', 'ID_Idi', 'IsPost', 'ID_Modulo', 'ID_Apa', 'ID_Aci', 'EsSet', 'ID_App', 'EsGlobal', 'ErrVali', 'ID_TrafI', 'Hora', 'SinDat', 'Test']\n"
     ]
    }
   ],
   "source": [
    "print(traf.columns.tolist())"
   ]
  },
  {
   "cell_type": "markdown",
   "id": "a17c1a93",
   "metadata": {},
   "source": [
    "- Fe_Al: Data i hora de la petició\n",
    "- ID_Ses: Nº de sessió. El nº de sessió nomes es fa servir per acces vía web\n",
    "- ID_Us: Indica l'usuari, en cas que estigui registrat\n",
    "- ID_Neg: Identifica el negoci des del que s'ha fet la petició\n",
    "- ID_Emp: Idenfitica la empresa que ha fet la petició\n",
    "- ID_Cont: Indenfitica el contacte que ha fet la petició\n",
    "- EsCli: Indica si le empresa es client\n",
    "- EsTrabajador: Indica si el usuari es treballador del negoci\n",
    "- EsProv: Indica si le empresa es un proveïdor\n",
    "- EsAdm: Indica si l'usuari que ha fet la petició ho ha fet com administrador\n",
    "- EsAgente: Indica si l'usuari que ha fet la petició ho ha fet com agent\n",
    "- EsTecnico: Indica si l'usuari que ha fet la petició ho ha fet com a tecnic\n",
    "- Durada: Durada en milisegons del temps que ha tardar en retorna la petició el servidor\n",
    "- BytesI: nº de bytes que s'han enviat al servidor per fer la petició\n",
    "- BytesO: nº de bytes que s'han retornat del servidor a la petició que ha fet l'usuari\n",
    "- BytesOsl: nº de bytes que s'han retornat del servidor a la petició que ha fet l'usuari menys la longitud de la url\n",
    "- IP: IP des d'on ha vingut la petició\n",
    "- ID_Idi: Identificador de l'idioma\n",
    "- IsPost: 0 es Get i 1 es Post, per detectar les peticions de lectura i escriptura\n",
    "- ID_Modulo: Identifica el modul al que pertany aquesta petició\n",
    "- ID_Apa: Identifica el apartat del modul al que pertany aquesta petició\n",
    "- ID_Aci: Identifica el tipus de petició\n",
    "- EsSet: Identifica si la petició es de consulta o de gravació de dades\n",
    "- ID_App: Identifica des de quina aplicació s'ha fer la petició\n",
    "- EsGlobal: Indica si la petició es Global\n",
    "- ErrVali: Identifica si hi ha hagut un error de validació\n",
    "- ID_TrafI: Identificador per vincular les dades amb un altre taula\n",
    "- Hora: Valor enter amb l'hora de la petició\n",
    "- SinDat: Petició sense dades\n",
    "- Test: Indica si la petició es va fer dins d'un entorn de prova\n",
    "\n",
    "\n"
   ]
  },
  {
   "cell_type": "code",
   "execution_count": 7,
   "id": "8f2bc25a",
   "metadata": {},
   "outputs": [
    {
     "name": "stdout",
     "output_type": "stream",
     "text": [
      "Nº de registres: 22418\n",
      "Tipus de dades de les columnes:\n",
      "Fe_Al            object\n",
      "ID_Ses            int64\n",
      "ID_Us             int64\n",
      "ID_Neg            int64\n",
      "ID_Emp            int64\n",
      "ID_Cont           int64\n",
      "EsCli             int64\n",
      "EsTrabajador      int64\n",
      "EsProv            int64\n",
      "EsAdm             int64\n",
      "EsAgente          int64\n",
      "EsTecnico         int64\n",
      "Durada          float64\n",
      "BytesI            int64\n",
      "BytesO            int64\n",
      "BytesOsl          int64\n",
      "IP               object\n",
      "ID_Idi            int64\n",
      "IsPost            int64\n",
      "ID_Modulo         int64\n",
      "ID_Apa            int64\n",
      "ID_Aci            int64\n",
      "EsSet             int64\n",
      "ID_App            int64\n",
      "EsGlobal          int64\n",
      "ErrVali           int64\n",
      "ID_TrafI          int64\n",
      "Hora              int64\n",
      "SinDat            int64\n",
      "Test              int64\n",
      "dtype: object\n"
     ]
    }
   ],
   "source": [
    "print(\"Nº de registres: \" + str(len(traf)))\n",
    "print(\"Tipus de dades de les columnes:\\n\" + str(traf.dtypes))"
   ]
  },
  {
   "cell_type": "markdown",
   "id": "96c99b5e",
   "metadata": {},
   "source": [
    "#### Redefinim el tipus de columna al que li correspont per l'origen de les dades"
   ]
  },
  {
   "cell_type": "code",
   "execution_count": 8,
   "id": "cf7e93f5",
   "metadata": {},
   "outputs": [
    {
     "name": "stdout",
     "output_type": "stream",
     "text": [
      "Tipus de dades de les columnes canviades:\n",
      "Fe_Al           datetime64[ns]\n",
      "ID_Ses                   int64\n",
      "ID_Us                    int64\n",
      "ID_Neg                   int64\n",
      "ID_Emp                   int64\n",
      "ID_Cont                  int64\n",
      "EsCli                     bool\n",
      "EsTrabajador              bool\n",
      "EsProv                    bool\n",
      "EsAdm                     bool\n",
      "EsAgente                  bool\n",
      "EsTecnico                 bool\n",
      "Durada                 float64\n",
      "BytesI                   int64\n",
      "BytesO                   int64\n",
      "BytesOsl                 int64\n",
      "IP                      string\n",
      "ID_Idi                   int64\n",
      "IsPost                    bool\n",
      "ID_Modulo                int64\n",
      "ID_Apa                   int64\n",
      "ID_Aci                   int64\n",
      "EsSet                     bool\n",
      "ID_App                   int64\n",
      "EsGlobal                  bool\n",
      "ErrVali                   bool\n",
      "ID_TrafI                 int64\n",
      "Hora                     int64\n",
      "SinDat                    bool\n",
      "Test                      bool\n",
      "dtype: object\n"
     ]
    }
   ],
   "source": [
    "traf['EsCli'] = traf['EsCli'].astype(bool)\n",
    "traf['EsTrabajador'] = traf['EsTrabajador'].astype(bool)\n",
    "traf['EsProv'] = traf['EsProv'].astype(bool)\n",
    "traf['EsAdm'] = traf['EsAdm'].astype(bool)\n",
    "traf['EsAgente'] = traf['EsAgente'].astype(bool)\n",
    "traf['EsTecnico'] = traf['EsTecnico'].astype(bool)\n",
    "traf['IsPost'] = traf['IsPost'].astype(bool)\n",
    "traf['EsSet'] = traf['EsSet'].astype(bool)\n",
    "traf['EsGlobal'] = traf['EsGlobal'].astype(bool)\n",
    "traf['ErrVali'] = traf['ErrVali'].astype(bool)\n",
    "traf['SinDat'] = traf['SinDat'].astype(bool)\n",
    "traf['Test'] = traf['Test'].astype(bool)\n",
    "traf['IP'] = traf['IP'].astype('string')\n",
    "traf['Fe_Al']= pd.to_datetime(traf['Fe_Al'])\n",
    "print(\"Tipus de dades de les columnes canviades:\\n\" + str(traf.dtypes))"
   ]
  },
  {
   "cell_type": "markdown",
   "id": "d81a9565",
   "metadata": {},
   "source": [
    "#### Agafem 3 atributs, Durada (temps de resposta de la API), BytesI (Nº de bytes enviats) i BytesO (Nº de bytes retornats)"
   ]
  },
  {
   "cell_type": "markdown",
   "id": "8d4948e0",
   "metadata": {},
   "source": [
    "#### Analitzem que les 3 columnes no tinguin cap NaN"
   ]
  },
  {
   "cell_type": "code",
   "execution_count": 9,
   "id": "3369207e",
   "metadata": {},
   "outputs": [
    {
     "data": {
      "text/plain": [
       "['IP']"
      ]
     },
     "execution_count": 9,
     "metadata": {},
     "output_type": "execute_result"
    }
   ],
   "source": [
    "traf.columns[traf.isna().any()].tolist()"
   ]
  },
  {
   "cell_type": "markdown",
   "id": "3401f233",
   "metadata": {},
   "source": [
    "#### Revisem que la longitud de sortida no sigui 0"
   ]
  },
  {
   "cell_type": "code",
   "execution_count": 10,
   "id": "16b2a1da",
   "metadata": {},
   "outputs": [
    {
     "data": {
      "text/html": [
       "<div>\n",
       "<style scoped>\n",
       "    .dataframe tbody tr th:only-of-type {\n",
       "        vertical-align: middle;\n",
       "    }\n",
       "\n",
       "    .dataframe tbody tr th {\n",
       "        vertical-align: top;\n",
       "    }\n",
       "\n",
       "    .dataframe thead th {\n",
       "        text-align: right;\n",
       "    }\n",
       "</style>\n",
       "<table border=\"1\" class=\"dataframe\">\n",
       "  <thead>\n",
       "    <tr style=\"text-align: right;\">\n",
       "      <th></th>\n",
       "      <th>Fe_Al</th>\n",
       "      <th>ID_Ses</th>\n",
       "      <th>ID_Us</th>\n",
       "      <th>ID_Neg</th>\n",
       "      <th>ID_Emp</th>\n",
       "      <th>ID_Cont</th>\n",
       "      <th>EsCli</th>\n",
       "      <th>EsTrabajador</th>\n",
       "      <th>EsProv</th>\n",
       "      <th>EsAdm</th>\n",
       "      <th>...</th>\n",
       "      <th>ID_Apa</th>\n",
       "      <th>ID_Aci</th>\n",
       "      <th>EsSet</th>\n",
       "      <th>ID_App</th>\n",
       "      <th>EsGlobal</th>\n",
       "      <th>ErrVali</th>\n",
       "      <th>ID_TrafI</th>\n",
       "      <th>Hora</th>\n",
       "      <th>SinDat</th>\n",
       "      <th>Test</th>\n",
       "    </tr>\n",
       "    <tr>\n",
       "      <th>ID_TrafO</th>\n",
       "      <th></th>\n",
       "      <th></th>\n",
       "      <th></th>\n",
       "      <th></th>\n",
       "      <th></th>\n",
       "      <th></th>\n",
       "      <th></th>\n",
       "      <th></th>\n",
       "      <th></th>\n",
       "      <th></th>\n",
       "      <th></th>\n",
       "      <th></th>\n",
       "      <th></th>\n",
       "      <th></th>\n",
       "      <th></th>\n",
       "      <th></th>\n",
       "      <th></th>\n",
       "      <th></th>\n",
       "      <th></th>\n",
       "      <th></th>\n",
       "      <th></th>\n",
       "    </tr>\n",
       "  </thead>\n",
       "  <tbody>\n",
       "  </tbody>\n",
       "</table>\n",
       "<p>0 rows × 30 columns</p>\n",
       "</div>"
      ],
      "text/plain": [
       "Empty DataFrame\n",
       "Columns: [Fe_Al, ID_Ses, ID_Us, ID_Neg, ID_Emp, ID_Cont, EsCli, EsTrabajador, EsProv, EsAdm, EsAgente, EsTecnico, Durada, BytesI, BytesO, BytesOsl, IP, ID_Idi, IsPost, ID_Modulo, ID_Apa, ID_Aci, EsSet, ID_App, EsGlobal, ErrVali, ID_TrafI, Hora, SinDat, Test]\n",
       "Index: []\n",
       "\n",
       "[0 rows x 30 columns]"
      ]
     },
     "execution_count": 10,
     "metadata": {},
     "output_type": "execute_result"
    }
   ],
   "source": [
    "traf.loc[traf['BytesO'] == 0]"
   ]
  },
  {
   "cell_type": "markdown",
   "id": "79397edb",
   "metadata": {},
   "source": [
    "#### Revisem que la longitud d'entrada no sigui 0"
   ]
  },
  {
   "cell_type": "code",
   "execution_count": 156,
   "id": "0383cc69",
   "metadata": {},
   "outputs": [
    {
     "data": {
      "text/html": [
       "<div>\n",
       "<style scoped>\n",
       "    .dataframe tbody tr th:only-of-type {\n",
       "        vertical-align: middle;\n",
       "    }\n",
       "\n",
       "    .dataframe tbody tr th {\n",
       "        vertical-align: top;\n",
       "    }\n",
       "\n",
       "    .dataframe thead th {\n",
       "        text-align: right;\n",
       "    }\n",
       "</style>\n",
       "<table border=\"1\" class=\"dataframe\">\n",
       "  <thead>\n",
       "    <tr style=\"text-align: right;\">\n",
       "      <th></th>\n",
       "      <th>Fe_Al</th>\n",
       "      <th>ID_Ses</th>\n",
       "      <th>ID_Us</th>\n",
       "      <th>ID_Neg</th>\n",
       "      <th>ID_Emp</th>\n",
       "      <th>ID_Cont</th>\n",
       "      <th>EsCli</th>\n",
       "      <th>EsTrabajador</th>\n",
       "      <th>EsProv</th>\n",
       "      <th>EsAdm</th>\n",
       "      <th>...</th>\n",
       "      <th>ID_Apa</th>\n",
       "      <th>ID_Aci</th>\n",
       "      <th>EsSet</th>\n",
       "      <th>ID_App</th>\n",
       "      <th>EsGlobal</th>\n",
       "      <th>ErrVali</th>\n",
       "      <th>ID_TrafI</th>\n",
       "      <th>Hora</th>\n",
       "      <th>SinDat</th>\n",
       "      <th>Test</th>\n",
       "    </tr>\n",
       "    <tr>\n",
       "      <th>ID_TrafO</th>\n",
       "      <th></th>\n",
       "      <th></th>\n",
       "      <th></th>\n",
       "      <th></th>\n",
       "      <th></th>\n",
       "      <th></th>\n",
       "      <th></th>\n",
       "      <th></th>\n",
       "      <th></th>\n",
       "      <th></th>\n",
       "      <th></th>\n",
       "      <th></th>\n",
       "      <th></th>\n",
       "      <th></th>\n",
       "      <th></th>\n",
       "      <th></th>\n",
       "      <th></th>\n",
       "      <th></th>\n",
       "      <th></th>\n",
       "      <th></th>\n",
       "      <th></th>\n",
       "    </tr>\n",
       "  </thead>\n",
       "  <tbody>\n",
       "  </tbody>\n",
       "</table>\n",
       "<p>0 rows × 30 columns</p>\n",
       "</div>"
      ],
      "text/plain": [
       "Empty DataFrame\n",
       "Columns: [Fe_Al, ID_Ses, ID_Us, ID_Neg, ID_Emp, ID_Cont, EsCli, EsTrabajador, EsProv, EsAdm, EsAgente, EsTecnico, Durada, BytesI, BytesO, BytesOsl, IP, ID_Idi, IsPost, ID_Modulo, ID_Apa, ID_Aci, EsSet, ID_App, EsGlobal, ErrVali, ID_TrafI, Hora, SinDat, Test]\n",
       "Index: []\n",
       "\n",
       "[0 rows x 30 columns]"
      ]
     },
     "execution_count": 156,
     "metadata": {},
     "output_type": "execute_result"
    }
   ],
   "source": [
    "traf.loc[traf['BytesI'] == 0]"
   ]
  },
  {
   "cell_type": "markdown",
   "id": "bcbb3709",
   "metadata": {},
   "source": [
    "#### Revisem que la durada no sigui 0"
   ]
  },
  {
   "cell_type": "code",
   "execution_count": 157,
   "id": "2519d553",
   "metadata": {},
   "outputs": [
    {
     "data": {
      "text/html": [
       "<div>\n",
       "<style scoped>\n",
       "    .dataframe tbody tr th:only-of-type {\n",
       "        vertical-align: middle;\n",
       "    }\n",
       "\n",
       "    .dataframe tbody tr th {\n",
       "        vertical-align: top;\n",
       "    }\n",
       "\n",
       "    .dataframe thead th {\n",
       "        text-align: right;\n",
       "    }\n",
       "</style>\n",
       "<table border=\"1\" class=\"dataframe\">\n",
       "  <thead>\n",
       "    <tr style=\"text-align: right;\">\n",
       "      <th></th>\n",
       "      <th>Fe_Al</th>\n",
       "      <th>ID_Ses</th>\n",
       "      <th>ID_Us</th>\n",
       "      <th>ID_Neg</th>\n",
       "      <th>ID_Emp</th>\n",
       "      <th>ID_Cont</th>\n",
       "      <th>EsCli</th>\n",
       "      <th>EsTrabajador</th>\n",
       "      <th>EsProv</th>\n",
       "      <th>EsAdm</th>\n",
       "      <th>...</th>\n",
       "      <th>ID_Apa</th>\n",
       "      <th>ID_Aci</th>\n",
       "      <th>EsSet</th>\n",
       "      <th>ID_App</th>\n",
       "      <th>EsGlobal</th>\n",
       "      <th>ErrVali</th>\n",
       "      <th>ID_TrafI</th>\n",
       "      <th>Hora</th>\n",
       "      <th>SinDat</th>\n",
       "      <th>Test</th>\n",
       "    </tr>\n",
       "    <tr>\n",
       "      <th>ID_TrafO</th>\n",
       "      <th></th>\n",
       "      <th></th>\n",
       "      <th></th>\n",
       "      <th></th>\n",
       "      <th></th>\n",
       "      <th></th>\n",
       "      <th></th>\n",
       "      <th></th>\n",
       "      <th></th>\n",
       "      <th></th>\n",
       "      <th></th>\n",
       "      <th></th>\n",
       "      <th></th>\n",
       "      <th></th>\n",
       "      <th></th>\n",
       "      <th></th>\n",
       "      <th></th>\n",
       "      <th></th>\n",
       "      <th></th>\n",
       "      <th></th>\n",
       "      <th></th>\n",
       "    </tr>\n",
       "  </thead>\n",
       "  <tbody>\n",
       "  </tbody>\n",
       "</table>\n",
       "<p>0 rows × 30 columns</p>\n",
       "</div>"
      ],
      "text/plain": [
       "Empty DataFrame\n",
       "Columns: [Fe_Al, ID_Ses, ID_Us, ID_Neg, ID_Emp, ID_Cont, EsCli, EsTrabajador, EsProv, EsAdm, EsAgente, EsTecnico, Durada, BytesI, BytesO, BytesOsl, IP, ID_Idi, IsPost, ID_Modulo, ID_Apa, ID_Aci, EsSet, ID_App, EsGlobal, ErrVali, ID_TrafI, Hora, SinDat, Test]\n",
       "Index: []\n",
       "\n",
       "[0 rows x 30 columns]"
      ]
     },
     "execution_count": 157,
     "metadata": {},
     "output_type": "execute_result"
    }
   ],
   "source": [
    "traf.loc[traf['Durada'] == 0]"
   ]
  },
  {
   "cell_type": "markdown",
   "id": "44abd0cb",
   "metadata": {},
   "source": [
    "#### Anem a coneixer el tipus de dades que hem agafat"
   ]
  },
  {
   "cell_type": "markdown",
   "id": "03ff0a2b",
   "metadata": {},
   "source": [
    "#### Analitzem l'atribut Durada"
   ]
  },
  {
   "cell_type": "code",
   "execution_count": 11,
   "id": "3f585538",
   "metadata": {},
   "outputs": [
    {
     "data": {
      "text/plain": [
       "count    22418.000000\n",
       "mean       384.335403\n",
       "std       1113.668201\n",
       "min          0.047400\n",
       "25%        140.317125\n",
       "50%        252.902600\n",
       "75%        425.246500\n",
       "max      65471.039200\n",
       "Name: Durada, dtype: float64"
      ]
     },
     "execution_count": 11,
     "metadata": {},
     "output_type": "execute_result"
    }
   ],
   "source": [
    "traf['Durada'].describe()"
   ]
  },
  {
   "cell_type": "code",
   "execution_count": 12,
   "id": "554f0eb2",
   "metadata": {},
   "outputs": [
    {
     "name": "stdout",
     "output_type": "stream",
     "text": [
      "Podem observar que la mitja es de 384.3 ms i la màxima 65471.0 ms, aixo vol dir que els valors tant alts que tenim segurament son Outliers.\n"
     ]
    }
   ],
   "source": [
    "print(\"Podem observar que la mitja es de \" + str(round(traf['Durada'].describe()[1],1)) + \" ms i la màxima \" + str(round(traf['Durada'].describe()[7],1)) + \" ms, aixo vol dir que els valors tant alts que tenim segurament son Outliers.\")"
   ]
  },
  {
   "cell_type": "code",
   "execution_count": 13,
   "id": "6c38e834",
   "metadata": {},
   "outputs": [
    {
     "name": "stdout",
     "output_type": "stream",
     "text": [
      "Mitja: 384.3\n",
      "Moda: 414.5\n",
      "Mediana: 252.9\n",
      "Desviació estandar: 1113.7\n"
     ]
    }
   ],
   "source": [
    "mitja=round(traf['Durada'].mean(),1)\n",
    "moda=round(mode(traf['Durada']),1)\n",
    "mediana=round(traf['Durada'].median(),1)\n",
    "desest=round(traf['Durada'].std(),1)\n",
    "vmax=round(traf['Durada'].describe()[7])\n",
    "print(\"Mitja: \" + str(mitja))\n",
    "print(\"Moda: \" + str(moda))\n",
    "print(\"Mediana: \" + str(mediana))\n",
    "print(\"Desviació estandar: \" + str(desest))\n",
    "bn=int((vmax/(mitja+desest))*5)"
   ]
  },
  {
   "cell_type": "code",
   "execution_count": 14,
   "id": "ebd21fa4",
   "metadata": {},
   "outputs": [
    {
     "name": "stdout",
     "output_type": "stream",
     "text": [
      "Fem un histograma per veure la forma de les dades. Com que tenim valors que es repeteixen poc, he dividit l'histograma en 218 columnes amb l'objectiu de poder visualitzar les dades mes significatives en 5 columnes\n"
     ]
    }
   ],
   "source": [
    "print(\"Fem un histograma per veure la forma de les dades. Com que tenim valors que es repeteixen poc, he dividit l'histograma en \" + str(bn) + \" columnes amb l'objectiu de poder visualitzar les dades mes significatives en 5 columnes\")"
   ]
  },
  {
   "cell_type": "markdown",
   "id": "4d60efa8",
   "metadata": {},
   "source": [
    "He agafat el valor màxim i l'he dividit entre el valor de la forma estandar, que es la mitja +/- la desviació estandar, i l'he multiplicat per 5 que son les divisions que vui que faci amb les dades mes representatives."
   ]
  },
  {
   "cell_type": "code",
   "execution_count": 15,
   "id": "d9f3345a",
   "metadata": {},
   "outputs": [
    {
     "data": {
      "image/png": "[encoded data removed]",
      "text/plain": [
       "<Figure size 432x288 with 1 Axes>"
      ]
     },
     "metadata": {
      "needs_background": "light"
     },
     "output_type": "display_data"
    }
   ],
   "source": [
    "hist = traf['Durada'].hist(bins=bn)"
   ]
  },
  {
   "cell_type": "markdown",
   "id": "41f5e370",
   "metadata": {},
   "source": [
    "Tornarem a fer l'histograma nomes agafan les dades mes significatives, que van de 0 fins la mijta + la desviació estandar"
   ]
  },
  {
   "cell_type": "code",
   "execution_count": 16,
   "id": "cda1d364",
   "metadata": {},
   "outputs": [
    {
     "data": {
      "image/png": "[encoded data removed]",
      "text/plain": [
       "<Figure size 432x288 with 1 Axes>"
      ]
     },
     "metadata": {
      "needs_background": "light"
     },
     "output_type": "display_data"
    }
   ],
   "source": [
    "td=traf.loc[traf['Durada'] <= mitja+desest]\n",
    "hist = td['Durada'].hist(bins=5)"
   ]
  },
  {
   "cell_type": "markdown",
   "id": "8ea0815c",
   "metadata": {},
   "source": [
    "Ara podem apreciar millor la diferencia de valors i on s'agrupen"
   ]
  },
  {
   "cell_type": "markdown",
   "id": "07fd6b7a",
   "metadata": {},
   "source": [
    "Anem a mirar la moda,  la mediana, la desviació estàndard i la mitjana aritmètica:"
   ]
  },
  {
   "cell_type": "code",
   "execution_count": 17,
   "id": "4d7ecd06",
   "metadata": {},
   "outputs": [
    {
     "name": "stdout",
     "output_type": "stream",
     "text": [
      "La moda de la durada es 414.5 ms, aquest es el valor mes freqüent dins d'aquest atribut\n",
      "La mediana de la durada es 252.9 ms\n",
      "La desviació estandar de la durada es 1113.7 ms\n",
      "Al fer servir la desviació estandar ens permet saber quins valors son normals, quin son extra grans o extra petits.\n",
      "Els valors normals van de la mitja +/- la desviació estandar, es a dir, de -729.4 ms a 1498.0 ms. En el nostre cas no tenim valors negatius.\n"
     ]
    }
   ],
   "source": [
    "print(\"La moda de la durada es \" + str(moda) + \" ms, aquest es el valor mes freqüent dins d'aquest atribut\")\n",
    "print(\"La mediana de la durada es \" + str(mediana) + \" ms\")\n",
    "print(\"La desviació estandar de la durada es \" + str(desest) + \" ms\")\n",
    "print(\"Al fer servir la desviació estandar ens permet saber quins valors son normals, quin son extra grans o extra petits.\")\n",
    "print(\"Els valors normals van de la mitja +/- la desviació estandar, es a dir, de \" +str(round(mitja-desest,1)) + \" ms a \" + str(mitja+desest) + \" ms. En el nostre cas no tenim valors negatius.\")"
   ]
  },
  {
   "cell_type": "markdown",
   "id": "b8c1b31a",
   "metadata": {},
   "source": [
    "Ara representarem la Durada amb una gràfica de Bigote"
   ]
  },
  {
   "cell_type": "code",
   "execution_count": 18,
   "id": "91e5762c",
   "metadata": {},
   "outputs": [
    {
     "data": {
      "text/plain": [
       "Text(0.5, 6.799999999999969, 'Milisegons')"
      ]
     },
     "execution_count": 18,
     "metadata": {},
     "output_type": "execute_result"
    },
    {
     "data": {
      "image/png": "[encoded data removed]",
      "text/plain": [
       "<Figure size 914.4x595.44 with 1 Axes>"
      ]
     },
     "metadata": {
      "needs_background": "light"
     },
     "output_type": "display_data"
    }
   ],
   "source": [
    "sns.catplot(x = \"Durada\", data = traf, kind = \"box\",orient=\"h\",height=8.27, aspect=12.7/8.27)\n",
    "plt.xticks(rotation=30, horizontalalignment=\"center\")\n",
    "plt.ylabel(\"Durada\")\n",
    "plt.xlabel(\"Milisegons\")"
   ]
  },
  {
   "cell_type": "markdown",
   "id": "62c6e338",
   "metadata": {},
   "source": [
    "Podem observar que els Outliers ens distorsionen la visualització de les dades, així que decideixo representar tots els valors inferiors a la mitja + la desviació estandar"
   ]
  },
  {
   "cell_type": "code",
   "execution_count": 19,
   "id": "bcaae7ad",
   "metadata": {},
   "outputs": [
    {
     "data": {
      "text/plain": [
       "Text(0.5, 6.799999999999969, 'Milisegons')"
      ]
     },
     "execution_count": 19,
     "metadata": {},
     "output_type": "execute_result"
    },
    {
     "data": {
      "image/png": "[encoded data removed]",
      "text/plain": [
       "<Figure size 914.4x595.44 with 1 Axes>"
      ]
     },
     "metadata": {
      "needs_background": "light"
     },
     "output_type": "display_data"
    }
   ],
   "source": [
    "#t1=traf.loc[traf['Durada'] <= mitja+desest]\n",
    "sns.catplot(x = \"Durada\", data = td, kind = \"box\",orient=\"h\",height=8.27, aspect=12.7/8.27)\n",
    "plt.xticks(rotation=30, horizontalalignment=\"center\")\n",
    "plt.ylabel(\"Durada\")\n",
    "plt.xlabel(\"Milisegons\")"
   ]
  },
  {
   "cell_type": "markdown",
   "id": "714252f7",
   "metadata": {},
   "source": []
  },
  {
   "cell_type": "code",
   "execution_count": 20,
   "id": "bac9dd4e",
   "metadata": {},
   "outputs": [
    {
     "name": "stdout",
     "output_type": "stream",
     "text": [
      "En aquesta gràfica es visualitzen els valors Q1,Q2 i Q3 (el tall dels percentils), el 50% dels valors estan entre 137.6 ms i 410.4 ms\n"
     ]
    }
   ],
   "source": [
    "print(\"En aquesta gràfica es visualitzen els valors Q1,Q2 i Q3 (el tall dels percentils), el 50% dels valors estan entre \" + str(round(td['Durada'].describe()[4],1)) + \" ms i \" + str(round(td['Durada'].describe()[6],1)) + \" ms\")"
   ]
  },
  {
   "cell_type": "markdown",
   "id": "d1db63b9",
   "metadata": {},
   "source": [
    "#### Analitzem l'atribut BytesI"
   ]
  },
  {
   "cell_type": "code",
   "execution_count": 21,
   "id": "e4d24c7b",
   "metadata": {},
   "outputs": [
    {
     "data": {
      "text/plain": [
       "count     22418.000000\n",
       "mean       1215.441788\n",
       "std       11824.139641\n",
       "min         662.000000\n",
       "25%         809.000000\n",
       "50%         843.000000\n",
       "75%         910.000000\n",
       "max      929113.000000\n",
       "Name: BytesI, dtype: float64"
      ]
     },
     "execution_count": 21,
     "metadata": {},
     "output_type": "execute_result"
    }
   ],
   "source": [
    "traf['BytesI'].describe()"
   ]
  },
  {
   "cell_type": "code",
   "execution_count": 23,
   "id": "6898e7c1",
   "metadata": {},
   "outputs": [
    {
     "name": "stdout",
     "output_type": "stream",
     "text": [
      "Podem observar que la mitja es de 1215.4 bytes i la màxima 929113.0 bytes, aixo vol dir que els valors tant alts que tenim segurament son Outliers.\n"
     ]
    }
   ],
   "source": [
    "print(\"Podem observar que la mitja es de \" + str(round(traf['BytesI'].describe()[1],1)) + \" bytes i la màxima \" + str(round(traf['BytesI'].describe()[7],1)) + \" bytes, aixo vol dir que els valors tant alts que tenim segurament son Outliers.\")"
   ]
  },
  {
   "cell_type": "code",
   "execution_count": 24,
   "id": "2caec784",
   "metadata": {},
   "outputs": [
    {
     "name": "stdout",
     "output_type": "stream",
     "text": [
      "Mitja: 1215.4\n",
      "Moda: 976\n",
      "Mediana: 843.0\n",
      "Desviació estandar: 11824.1\n"
     ]
    }
   ],
   "source": [
    "mitja=round(traf['BytesI'].mean(),1)\n",
    "moda=round(mode(traf['BytesI']),1)\n",
    "mediana=round(traf['BytesI'].median(),1)\n",
    "desest=round(traf['BytesI'].std(),1)\n",
    "vmax=round(traf['BytesI'].describe()[7])\n",
    "print(\"Mitja: \" + str(mitja))\n",
    "print(\"Moda: \" + str(moda))\n",
    "print(\"Mediana: \" + str(mediana))\n",
    "print(\"Desviació estandar: \" + str(desest))\n",
    "bn=int((vmax/(mitja+desest))*5)"
   ]
  },
  {
   "cell_type": "code",
   "execution_count": 25,
   "id": "45bb30b5",
   "metadata": {},
   "outputs": [
    {
     "name": "stdout",
     "output_type": "stream",
     "text": [
      "Fem un histograma per veure la forma de les dades. Com que tenim valors que es repeteixen poc, he dividit l'histograma en 356 columnes amb l'objectiu de poder visualitzar les dades mes significatives en 5 columnes\n"
     ]
    }
   ],
   "source": [
    "print(\"Fem un histograma per veure la forma de les dades. Com que tenim valors que es repeteixen poc, he dividit l'histograma en \" + str(bn) + \" columnes amb l'objectiu de poder visualitzar les dades mes significatives en 5 columnes\")"
   ]
  },
  {
   "cell_type": "code",
   "execution_count": 26,
   "id": "4d325953",
   "metadata": {},
   "outputs": [
    {
     "data": {
      "image/png": "[encoded data removed]",
      "text/plain": [
       "<Figure size 432x288 with 1 Axes>"
      ]
     },
     "metadata": {
      "needs_background": "light"
     },
     "output_type": "display_data"
    }
   ],
   "source": [
    "hist = traf['BytesI'].hist(bins=bn)"
   ]
  },
  {
   "cell_type": "markdown",
   "id": "3863fcbc",
   "metadata": {},
   "source": [
    "Tornarem a fer l'histograma nomes agafan les dades mes significatives, que van de 0 fins la mijta + la desviació estandar, amb l'objectiu de poder veure la forma de les dades mes representatives"
   ]
  },
  {
   "cell_type": "code",
   "execution_count": 27,
   "id": "8d21da6d",
   "metadata": {},
   "outputs": [
    {
     "data": {
      "image/png": "[encoded data removed]",
      "text/plain": [
       "<Figure size 432x288 with 1 Axes>"
      ]
     },
     "metadata": {
      "needs_background": "light"
     },
     "output_type": "display_data"
    }
   ],
   "source": [
    "ti=traf.loc[traf['BytesI'] <= mitja+desest]\n",
    "hist = ti['BytesI'].hist(bins=5)"
   ]
  },
  {
   "cell_type": "markdown",
   "id": "78e2e6a5",
   "metadata": {},
   "source": [
    "Utilitzan la desviació estandar, encara ens surten valors poc agrupats. Tornem a fer l'histograma però agafant les dades fins el Q3"
   ]
  },
  {
   "cell_type": "code",
   "execution_count": 28,
   "id": "24af69de",
   "metadata": {},
   "outputs": [
    {
     "data": {
      "image/png": "[encoded data removed]",
      "text/plain": [
       "<Figure size 432x288 with 1 Axes>"
      ]
     },
     "metadata": {
      "needs_background": "light"
     },
     "output_type": "display_data"
    }
   ],
   "source": [
    "q3=round(traf['BytesI'].describe()[6])\n",
    "ti=traf.loc[traf['BytesI'] <= q3]\n",
    "hist = ti['BytesI'].hist(bins=5)\n",
    "q3i=q3"
   ]
  },
  {
   "cell_type": "markdown",
   "id": "6df118d1",
   "metadata": {},
   "source": [
    "Ara sí que podem veure la forma de les dades mes representatives"
   ]
  },
  {
   "cell_type": "markdown",
   "id": "93b4d78a",
   "metadata": {},
   "source": [
    "Anem a mirar la moda, la mediana, la desviació estàndard i la mitjana aritmètica:"
   ]
  },
  {
   "cell_type": "code",
   "execution_count": 29,
   "id": "e64c1317",
   "metadata": {},
   "outputs": [
    {
     "name": "stdout",
     "output_type": "stream",
     "text": [
      "La moda dels BytesI es 976 bytes, aquest es el valor mes freqüent dins d'aquest atribut\n",
      "La mediana dels BytesI es 843.0 bytes\n",
      "La desviació estandar dels BytesI es 11824.1 bytes\n",
      "Al fer servir la desviació estandar ens permet saber quins valors son normals, quin son extra grans o extra petits.\n",
      "Els valors normals van de la mitja +/- la desviació estandar, es a dir, de -10608.7 bytes a 13039.5 bytes. En el nostre cas no tenim valors negatius.\n"
     ]
    }
   ],
   "source": [
    "print(\"La moda dels BytesI es \" + str(moda) + \" bytes, aquest es el valor mes freqüent dins d'aquest atribut\")\n",
    "print(\"La mediana dels BytesI es \" + str(mediana) + \" bytes\")\n",
    "print(\"La desviació estandar dels BytesI es \" + str(desest) + \" bytes\")\n",
    "print(\"Al fer servir la desviació estandar ens permet saber quins valors son normals, quin son extra grans o extra petits.\")\n",
    "print(\"Els valors normals van de la mitja +/- la desviació estandar, es a dir, de \" +str(round(mitja-desest,1)) + \" bytes a \" + str(mitja+desest) + \" bytes. En el nostre cas no tenim valors negatius.\")"
   ]
  },
  {
   "cell_type": "markdown",
   "id": "0d3d789e",
   "metadata": {},
   "source": [
    "Ara representarem BytesI amb una gràfica de Bigote"
   ]
  },
  {
   "cell_type": "code",
   "execution_count": 30,
   "id": "a50752f6",
   "metadata": {},
   "outputs": [
    {
     "data": {
      "text/plain": [
       "Text(0.5, 6.799999999999969, 'Bytes')"
      ]
     },
     "execution_count": 30,
     "metadata": {},
     "output_type": "execute_result"
    },
    {
     "data": {
      "image/png": "[encoded data removed]",
      "text/plain": [
       "<Figure size 914.4x595.44 with 1 Axes>"
      ]
     },
     "metadata": {
      "needs_background": "light"
     },
     "output_type": "display_data"
    }
   ],
   "source": [
    "sns.catplot(x = \"BytesI\", data = traf, kind = \"box\",orient=\"h\",height=8.27, aspect=12.7/8.27)\n",
    "plt.xticks(rotation=30, horizontalalignment=\"center\")\n",
    "plt.ylabel(\"Tamany\")\n",
    "plt.xlabel(\"Bytes\")"
   ]
  },
  {
   "cell_type": "markdown",
   "id": "82207429",
   "metadata": {},
   "source": [
    "Podem observar que els Outliers ens distorsionen la visualització de les dades, així que decideixo representar tots els valors inferiors a la mitja + la desviació estandar"
   ]
  },
  {
   "cell_type": "code",
   "execution_count": 31,
   "id": "a0989794",
   "metadata": {},
   "outputs": [
    {
     "data": {
      "text/plain": [
       "Text(0.5, 6.799999999999969, 'Milisegons')"
      ]
     },
     "execution_count": 31,
     "metadata": {},
     "output_type": "execute_result"
    },
    {
     "data": {
      "image/png": "[encoded data removed]",
      "text/plain": [
       "<Figure size 914.4x595.44 with 1 Axes>"
      ]
     },
     "metadata": {
      "needs_background": "light"
     },
     "output_type": "display_data"
    }
   ],
   "source": [
    "sns.catplot(x = \"BytesI\", data = ti, kind = \"box\",orient=\"h\",height=8.27, aspect=12.7/8.27)\n",
    "plt.xticks(rotation=30, horizontalalignment=\"center\")\n",
    "plt.ylabel(\"Durada\")\n",
    "plt.xlabel(\"Milisegons\")"
   ]
  },
  {
   "cell_type": "code",
   "execution_count": 32,
   "id": "4b1bee14",
   "metadata": {},
   "outputs": [
    {
     "name": "stdout",
     "output_type": "stream",
     "text": [
      "En aquesta gràfica es visualitzen els valors Q1,Q2 i Q3 (el tall dels percentils), el 50% dels valors estan entre 802.0 bytes i 855.0 bytes\n"
     ]
    }
   ],
   "source": [
    "print(\"En aquesta gràfica es visualitzen els valors Q1,Q2 i Q3 (el tall dels percentils), el 50% dels valors estan entre \" + str(round(ti['BytesI'].describe()[4],1)) + \" bytes i \" + str(round(ti['BytesI'].describe()[6],1)) + \" bytes\")"
   ]
  },
  {
   "cell_type": "markdown",
   "id": "6cb7acdf",
   "metadata": {},
   "source": [
    "#### Analitzem l'atribut BytesO"
   ]
  },
  {
   "cell_type": "code",
   "execution_count": 33,
   "id": "0ca76016",
   "metadata": {},
   "outputs": [
    {
     "data": {
      "text/plain": [
       "count    2.241800e+04\n",
       "mean     6.528482e+03\n",
       "std      7.558766e+04\n",
       "min      4.770000e+02\n",
       "25%      1.294000e+03\n",
       "50%      2.039000e+03\n",
       "75%      4.729000e+03\n",
       "max      1.046741e+07\n",
       "Name: BytesO, dtype: float64"
      ]
     },
     "execution_count": 33,
     "metadata": {},
     "output_type": "execute_result"
    }
   ],
   "source": [
    "traf['BytesO'].describe()"
   ]
  },
  {
   "cell_type": "code",
   "execution_count": 34,
   "id": "34408203",
   "metadata": {},
   "outputs": [
    {
     "name": "stdout",
     "output_type": "stream",
     "text": [
      "Podem observar que la mitja es de 6528.5 bytes i la màxima 10467407.0 bytes, aixo vol dir que els valors tant alts que tenim segurament son Outliers.\n"
     ]
    }
   ],
   "source": [
    "print(\"Podem observar que la mitja es de \" + str(round(traf['BytesO'].describe()[1],1)) + \" bytes i la màxima \" + str(round(traf['BytesO'].describe()[7],1)) + \" bytes, aixo vol dir que els valors tant alts que tenim segurament son Outliers.\")"
   ]
  },
  {
   "cell_type": "code",
   "execution_count": 35,
   "id": "961f92c4",
   "metadata": {},
   "outputs": [
    {
     "name": "stdout",
     "output_type": "stream",
     "text": [
      "Mitja: 6528.5\n",
      "Moda: 624\n",
      "Mediana: 2039.0\n",
      "Desviació estandar: 75587.7\n"
     ]
    }
   ],
   "source": [
    "mitja=round(traf['BytesO'].mean(),1)\n",
    "moda=round(mode(traf['BytesO']),1)\n",
    "mediana=round(traf['BytesO'].median(),1)\n",
    "desest=round(traf['BytesO'].std(),1)\n",
    "vmax=round(traf['BytesO'].describe()[7])\n",
    "print(\"Mitja: \" + str(mitja))\n",
    "print(\"Moda: \" + str(moda))\n",
    "print(\"Mediana: \" + str(mediana))\n",
    "print(\"Desviació estandar: \" + str(desest))\n",
    "bn=int((vmax/(mitja+desest))*5)"
   ]
  },
  {
   "cell_type": "code",
   "execution_count": 36,
   "id": "8f4f2043",
   "metadata": {},
   "outputs": [
    {
     "name": "stdout",
     "output_type": "stream",
     "text": [
      "Fem un histograma per veure la forma de les dades. Com que tenim valors que es repeteixen poc, he dividit l'histograma en 637 columnes amb l'objectiu de poder visualitzar les dades mes significatives en 5 columnes\n"
     ]
    }
   ],
   "source": [
    "print(\"Fem un histograma per veure la forma de les dades. Com que tenim valors que es repeteixen poc, he dividit l'histograma en \" + str(bn) + \" columnes amb l'objectiu de poder visualitzar les dades mes significatives en 5 columnes\")"
   ]
  },
  {
   "cell_type": "code",
   "execution_count": 38,
   "id": "c9689ff6",
   "metadata": {},
   "outputs": [
    {
     "data": {
      "image/png": "[encoded data removed]",
      "text/plain": [
       "<Figure size 432x288 with 1 Axes>"
      ]
     },
     "metadata": {
      "needs_background": "light"
     },
     "output_type": "display_data"
    }
   ],
   "source": [
    "hist = traf['BytesO'].hist(bins=bn)"
   ]
  },
  {
   "cell_type": "markdown",
   "id": "e86cf906",
   "metadata": {},
   "source": [
    "Tornarem a fer l'histograma nomes agafan les dades mes significatives, que van de 0 fins la mijta + la desviació estandar, amb l'objectiu de poder veure la forma de les dades mes representatives"
   ]
  },
  {
   "cell_type": "code",
   "execution_count": 39,
   "id": "5cff10d4",
   "metadata": {},
   "outputs": [
    {
     "data": {
      "image/png": "[encoded data removed]",
      "text/plain": [
       "<Figure size 432x288 with 1 Axes>"
      ]
     },
     "metadata": {
      "needs_background": "light"
     },
     "output_type": "display_data"
    }
   ],
   "source": [
    "to=traf.loc[traf['BytesO'] <= mitja+desest]\n",
    "hist = to['BytesO'].hist(bins=5)"
   ]
  },
  {
   "cell_type": "markdown",
   "id": "07e50a7f",
   "metadata": {},
   "source": [
    "Utilitzan la desviació estandar, encara ens surten valors poc agrupats. Tornem a fer l'histograma però agafant les dades fins el Q3"
   ]
  },
  {
   "cell_type": "code",
   "execution_count": 40,
   "id": "66be1ddb",
   "metadata": {},
   "outputs": [
    {
     "data": {
      "image/png": "[encoded data removed]",
      "text/plain": [
       "<Figure size 432x288 with 1 Axes>"
      ]
     },
     "metadata": {
      "needs_background": "light"
     },
     "output_type": "display_data"
    }
   ],
   "source": [
    "q3=round(traf['BytesO'].describe()[6])\n",
    "to=traf.loc[traf['BytesO'] <= q3]\n",
    "hist = to['BytesO'].hist(bins=5)\n",
    "q3o=q3"
   ]
  },
  {
   "cell_type": "markdown",
   "id": "7c841e76",
   "metadata": {},
   "source": [
    "Ara sí que podem veure la forma de les dades mes representatives"
   ]
  },
  {
   "cell_type": "markdown",
   "id": "b11d6b9b",
   "metadata": {},
   "source": [
    "Anem a mirar la moda, la mediana, la desviació estàndard i la mitjana aritmètica:"
   ]
  },
  {
   "cell_type": "code",
   "execution_count": 41,
   "id": "1736de28",
   "metadata": {},
   "outputs": [
    {
     "name": "stdout",
     "output_type": "stream",
     "text": [
      "La moda dels BytesO es 624 bytes, aquest es el valor mes freqüent dins d'aquest atribut\n",
      "La mediana dels BytesO es 2039.0 bytes\n",
      "La desviació estandar dels BytesO es 75587.7 bytes\n",
      "Al fer servir la desviació estandar ens permet saber quins valors son normals, quin son extra grans o extra petits.\n",
      "Els valors normals van de la mitja +/- la desviació estandar, es a dir, de -69059.2 bytes a 82116.2 bytes. En el nostre cas no tenim valors negatius.\n"
     ]
    }
   ],
   "source": [
    "print(\"La moda dels BytesO es \" + str(moda) + \" bytes, aquest es el valor mes freqüent dins d'aquest atribut\")\n",
    "print(\"La mediana dels BytesO es \" + str(mediana) + \" bytes\")\n",
    "print(\"La desviació estandar dels BytesO es \" + str(desest) + \" bytes\")\n",
    "print(\"Al fer servir la desviació estandar ens permet saber quins valors son normals, quin son extra grans o extra petits.\")\n",
    "print(\"Els valors normals van de la mitja +/- la desviació estandar, es a dir, de \" +str(round(mitja-desest,1)) + \" bytes a \" + str(mitja+desest) + \" bytes. En el nostre cas no tenim valors negatius.\")"
   ]
  },
  {
   "cell_type": "markdown",
   "id": "69258fb3",
   "metadata": {},
   "source": [
    "Ara representarem BytesI amb una gràfica de Bigote"
   ]
  },
  {
   "cell_type": "code",
   "execution_count": 42,
   "id": "d7766928",
   "metadata": {},
   "outputs": [
    {
     "data": {
      "text/plain": [
       "Text(0.5, 6.799999999999969, 'Bytes')"
      ]
     },
     "execution_count": 42,
     "metadata": {},
     "output_type": "execute_result"
    },
    {
     "data": {
      "image/png": "[encoded data removed]",
      "text/plain": [
       "<Figure size 914.4x595.44 with 1 Axes>"
      ]
     },
     "metadata": {
      "needs_background": "light"
     },
     "output_type": "display_data"
    }
   ],
   "source": [
    "sns.catplot(x = \"BytesO\", data = traf, kind = \"box\",orient=\"h\",height=8.27, aspect=12.7/8.27)\n",
    "plt.xticks(rotation=30, horizontalalignment=\"center\")\n",
    "plt.ylabel(\"Tamany\")\n",
    "plt.xlabel(\"Bytes\")"
   ]
  },
  {
   "cell_type": "markdown",
   "id": "03d2e533",
   "metadata": {},
   "source": [
    "Podem observar que els Outliers ens distorsionen la visualització de les dades, així que decideixo representar tots els valors inferiors a la mitja + la desviació estandar"
   ]
  },
  {
   "cell_type": "code",
   "execution_count": 43,
   "id": "60dadf7f",
   "metadata": {},
   "outputs": [
    {
     "data": {
      "text/plain": [
       "Text(0.5, 6.799999999999969, 'Milisegons')"
      ]
     },
     "execution_count": 43,
     "metadata": {},
     "output_type": "execute_result"
    },
    {
     "data": {
      "image/png": "[encoded data removed]",
      "text/plain": [
       "<Figure size 914.4x595.44 with 1 Axes>"
      ]
     },
     "metadata": {
      "needs_background": "light"
     },
     "output_type": "display_data"
    }
   ],
   "source": [
    "sns.catplot(x = \"BytesO\", data = to, kind = \"box\",orient=\"h\",height=8.27, aspect=12.7/8.27)\n",
    "plt.xticks(rotation=30, horizontalalignment=\"center\")\n",
    "plt.ylabel(\"Durada\")\n",
    "plt.xlabel(\"Milisegons\")"
   ]
  },
  {
   "cell_type": "code",
   "execution_count": 44,
   "id": "793ea152",
   "metadata": {},
   "outputs": [
    {
     "name": "stdout",
     "output_type": "stream",
     "text": [
      "En aquesta gràfica es visualitzen els valors Q1,Q2 i Q3 (el tall dels percentils), el 50% dels valors estan entre 1136.0 bytes i 2332.0 bytes\n"
     ]
    }
   ],
   "source": [
    "print(\"En aquesta gràfica es visualitzen els valors Q1,Q2 i Q3 (el tall dels percentils), el 50% dels valors estan entre \" + str(round(to['BytesO'].describe()[4],1)) + \" bytes i \" + str(round(to['BytesO'].describe()[6],1)) + \" bytes\")"
   ]
  },
  {
   "cell_type": "markdown",
   "id": "a131374d",
   "metadata": {},
   "source": [
    "#### Un cop analitzats els 3 atributs, procedeixo a fer una comparativa entre  BytesI i BytesO per prova de determinar alguna relació entre elles"
   ]
  },
  {
   "cell_type": "markdown",
   "id": "e8f3252a",
   "metadata": {},
   "source": [
    "#### Com que tenim valors molts diferents, obtenim el Q3 mes gran entre BytesI i BytesO i li afegim un offset per poder veure ver la gràfica"
   ]
  },
  {
   "cell_type": "code",
   "execution_count": 45,
   "id": "1b956352",
   "metadata": {},
   "outputs": [
    {
     "data": {
      "text/plain": [
       "(0.0, 4829.0)"
      ]
     },
     "execution_count": 45,
     "metadata": {},
     "output_type": "execute_result"
    },
    {
     "data": {
      "image/png": "[encoded data removed]",
      "text/plain": [
       "<Figure size 914.4x595.44 with 1 Axes>"
      ]
     },
     "metadata": {
      "needs_background": "light"
     },
     "output_type": "display_data"
    }
   ],
   "source": [
    "offset=100\n",
    "sns.catplot(data = traf[['BytesI','BytesO']], kind = \"box\",orient=\"h\",height=8.27, aspect=12.7/8.27)\n",
    "plt.xticks(rotation=30, horizontalalignment=\"center\")\n",
    "plt.ylabel(\"Durada\")\n",
    "plt.xlabel(\"Milisegons\")\n",
    "plt.xlim(0, q3o+offset)"
   ]
  },
  {
   "cell_type": "markdown",
   "id": "9627e523",
   "metadata": {},
   "source": [
    "#### Podem observar que les peticions tenen un tamany d'entrada molt inferior al tamany de sortida. Seria interessant de poder diferencia entre les peticions de lectura i les peticions d'escriptura per treure altres conclusions. No ho farem per no demorar l'exercici."
   ]
  },
  {
   "cell_type": "markdown",
   "id": "3575fc68",
   "metadata": {},
   "source": [
    "#### Ara farem una gràfica de dispersió per veure si les variables BytesI i BytesO tenen alguna relació"
   ]
  },
  {
   "cell_type": "code",
   "execution_count": 46,
   "id": "1e391db2",
   "metadata": {},
   "outputs": [
    {
     "data": {
      "text/plain": [
       "[<matplotlib.lines.Line2D at 0x22e230943a0>]"
      ]
     },
     "execution_count": 46,
     "metadata": {},
     "output_type": "execute_result"
    },
    {
     "data": {
      "image/png": "[encoded data removed]",
      "text/plain": [
       "<Figure size 432x288 with 1 Axes>"
      ]
     },
     "metadata": {
      "needs_background": "light"
     },
     "output_type": "display_data"
    }
   ],
   "source": [
    "x=traf['BytesI']\n",
    "y=traf['BytesO']\n",
    "plt.plot(x,y,'o',color='blue')"
   ]
  },
  {
   "cell_type": "markdown",
   "id": "bf3b45ec",
   "metadata": {},
   "source": [
    "#### Podem afirmar que no tenen cap relació les dos variables. Igualment limitarem els valors de sortida per poder ampliar la zona on es concentren els valors."
   ]
  },
  {
   "cell_type": "code",
   "execution_count": 47,
   "id": "f6b24808",
   "metadata": {},
   "outputs": [
    {
     "data": {
      "text/plain": [
       "(0.0, 4829.0)"
      ]
     },
     "execution_count": 47,
     "metadata": {},
     "output_type": "execute_result"
    },
    {
     "data": {
      "image/png": "[encoded data removed]",
      "text/plain": [
       "<Figure size 432x288 with 1 Axes>"
      ]
     },
     "metadata": {
      "needs_background": "light"
     },
     "output_type": "display_data"
    }
   ],
   "source": [
    "x=traf['BytesI']\n",
    "y=traf['BytesO']\n",
    "plt.plot(x,y,'o',color='blue')\n",
    "plt.xlim(0, q3o+offset)\n",
    "plt.ylim(0, q3o+offset)"
   ]
  },
  {
   "cell_type": "markdown",
   "id": "f8cc93da",
   "metadata": {},
   "source": [
    "### Exercici 2: Continuant amb les dades de tema esportiu, selecciona dos atributs i calcula'n la seva correlació"
   ]
  },
  {
   "cell_type": "markdown",
   "id": "5c3235a4",
   "metadata": {},
   "source": [
    "#### Anteriorment hem buscar la correlació entre BytesI i BytesO, i hem vist que no hi ha correlació. Ara farem l'exercici 2 amb els atributs BytesO i Durada"
   ]
  },
  {
   "cell_type": "code",
   "execution_count": 48,
   "id": "049dc2a9",
   "metadata": {},
   "outputs": [
    {
     "data": {
      "text/plain": [
       "[<matplotlib.lines.Line2D at 0x22e24b523d0>]"
      ]
     },
     "execution_count": 48,
     "metadata": {},
     "output_type": "execute_result"
    },
    {
     "data": {
      "image/png": "[encoded data removed]",
      "text/plain": [
       "<Figure size 432x288 with 1 Axes>"
      ]
     },
     "metadata": {
      "needs_background": "light"
     },
     "output_type": "display_data"
    }
   ],
   "source": [
    "x=traf['Durada']\n",
    "y=traf['BytesO']\n",
    "plt.plot(x,y,'o',color='blue')"
   ]
  },
  {
   "cell_type": "markdown",
   "id": "a874d3b6",
   "metadata": {},
   "source": [
    "#### Limitem els valors de la x i y amb l'objectiu de veure de forma mes apliada la concentració de dades."
   ]
  },
  {
   "cell_type": "code",
   "execution_count": 49,
   "id": "0630b137",
   "metadata": {},
   "outputs": [
    {
     "data": {
      "text/plain": [
       "(0.0, 10000.0)"
      ]
     },
     "execution_count": 49,
     "metadata": {},
     "output_type": "execute_result"
    },
    {
     "data": {
      "image/png": "[encoded data removed]",
      "text/plain": [
       "<Figure size 432x288 with 1 Axes>"
      ]
     },
     "metadata": {
      "needs_background": "light"
     },
     "output_type": "display_data"
    }
   ],
   "source": [
    "x=traf['BytesO']\n",
    "y=traf['Durada']\n",
    "plt.plot(x,y,'o',color='blue')\n",
    "plt.xlim(0, q3o+offset)\n",
    "plt.ylim(0, 10000)"
   ]
  },
  {
   "cell_type": "markdown",
   "id": "ddb97b1d",
   "metadata": {},
   "source": [
    "#### Com que no trobem cap correlació, fem una ultima prova separant les peticions de lectura de les de escriptura."
   ]
  },
  {
   "cell_type": "code",
   "execution_count": 77,
   "id": "7701e115",
   "metadata": {},
   "outputs": [
    {
     "name": "stdout",
     "output_type": "stream",
     "text": [
      "Hi han 19408 peticions de lectura\n",
      "Hi han 3010 peticions d'escriptura'\n"
     ]
    }
   ],
   "source": [
    "rd=traf.loc[traf['EsSet'] == False]\n",
    "wr=traf.loc[traf['EsSet'] == True]\n",
    "print(\"Hi han \" + str(len(rd)) + \" peticions de lectura\")\n",
    "print(\"Hi han \" + str(len(wr)) + \" peticions d'escriptura'\")"
   ]
  },
  {
   "cell_type": "markdown",
   "id": "df7251dc",
   "metadata": {},
   "source": [
    "#### Visualitzem les dedes de lectura"
   ]
  },
  {
   "cell_type": "code",
   "execution_count": 53,
   "id": "4d35113b",
   "metadata": {},
   "outputs": [
    {
     "data": {
      "text/plain": [
       "(0.0, 5000.0)"
      ]
     },
     "execution_count": 53,
     "metadata": {},
     "output_type": "execute_result"
    },
    {
     "data": {
      "image/png": "[encoded data removed]",
      "text/plain": [
       "<Figure size 432x288 with 1 Axes>"
      ]
     },
     "metadata": {
      "needs_background": "light"
     },
     "output_type": "display_data"
    }
   ],
   "source": [
    "x=rd['BytesO']\n",
    "y=rd['Durada']\n",
    "plt.plot(x,y,'o',color='blue')\n",
    "plt.xlim(0, q3o+offset)\n",
    "plt.ylim(0, 5000)"
   ]
  },
  {
   "cell_type": "markdown",
   "id": "7ec36dc7",
   "metadata": {},
   "source": [
    "#### La correlació no millora"
   ]
  },
  {
   "cell_type": "markdown",
   "id": "4ce4beff",
   "metadata": {},
   "source": [
    "#### Ara provem almb la de escriptura"
   ]
  },
  {
   "cell_type": "code",
   "execution_count": 54,
   "id": "9cce145f",
   "metadata": {},
   "outputs": [
    {
     "data": {
      "text/plain": [
       "(0.0, 5000.0)"
      ]
     },
     "execution_count": 54,
     "metadata": {},
     "output_type": "execute_result"
    },
    {
     "data": {
      "image/png": "[encoded data removed]",
      "text/plain": [
       "<Figure size 432x288 with 1 Axes>"
      ]
     },
     "metadata": {
      "needs_background": "light"
     },
     "output_type": "display_data"
    }
   ],
   "source": [
    "x=wr['BytesI']\n",
    "y=wr['Durada']\n",
    "plt.plot(x,y,'o',color='blue')\n",
    "plt.xlim(700, q3i+offset)\n",
    "plt.ylim(0, 5000)"
   ]
  },
  {
   "cell_type": "markdown",
   "id": "18a1884e",
   "metadata": {},
   "source": [
    "#### Tampoc millora. Podem confirmar que no hi ha cap correlació amb les dades"
   ]
  },
  {
   "cell_type": "markdown",
   "id": "067e7624",
   "metadata": {},
   "source": [
    "#### Farem un mapa de calor de totes les variables"
   ]
  },
  {
   "cell_type": "code",
   "execution_count": 80,
   "id": "0a86ac5c",
   "metadata": {},
   "outputs": [],
   "source": [
    "#traf.style.background_gradient(cmap='Greens')"
   ]
  },
  {
   "cell_type": "markdown",
   "id": "14d03329",
   "metadata": {},
   "source": [
    "#### Com que tarda molt, nomes agafem les columnes que ens interessen, ja que les altres dades no son importants per l'exercici d'ara"
   ]
  },
  {
   "cell_type": "code",
   "execution_count": 99,
   "id": "ade70fc0",
   "metadata": {},
   "outputs": [
    {
     "data": {
      "text/plain": [
       "<AxesSubplot:ylabel='ID_TrafO'>"
      ]
     },
     "execution_count": 99,
     "metadata": {},
     "output_type": "execute_result"
    },
    {
     "data": {
      "image/png": "[encoded data removed]",
      "text/plain": [
       "<Figure size 432x288 with 2 Axes>"
      ]
     },
     "metadata": {
      "needs_background": "light"
     },
     "output_type": "display_data"
    }
   ],
   "source": [
    "#traf.style.background_gradient(cmap='Greens')\n",
    "sns.heatmap(traf[['Durada','BytesI','BytesO']],cmap=\"Blues\")"
   ]
  },
  {
   "cell_type": "markdown",
   "id": "cbf63b3c",
   "metadata": {},
   "source": [
    "#### Conclusió: Era previsible que al fer el mapa de calor, sortis fred, perque no hi ha correlació"
   ]
  },
  {
   "cell_type": "markdown",
   "id": "3e24076f",
   "metadata": {},
   "source": [
    "### Exercici nº 3 - Continuant amb les dades de tema esportiu, calcula la correlació de tots els atributs entre sí i representa'ls en una matriu amb diferents colors d'intensitat."
   ]
  },
  {
   "cell_type": "markdown",
   "id": "4228c33a",
   "metadata": {},
   "source": [
    "#### He tret totes les columnes booleanes, perque no les pot representar, i he deixat les que aporten una mica de color a la gràfica de calor."
   ]
  },
  {
   "cell_type": "code",
   "execution_count": 88,
   "id": "b57f9202",
   "metadata": {},
   "outputs": [],
   "source": [
    "#traf.style.background_gradient(cmap='Greens')"
   ]
  },
  {
   "cell_type": "code",
   "execution_count": 106,
   "id": "0339dc4e",
   "metadata": {},
   "outputs": [
    {
     "data": {
      "text/plain": [
       "<AxesSubplot:ylabel='ID_TrafO'>"
      ]
     },
     "execution_count": 106,
     "metadata": {},
     "output_type": "execute_result"
    },
    {
     "data": {
      "image/png": "[encoded data removed]",
      "text/plain": [
       "<Figure size 432x288 with 2 Axes>"
      ]
     },
     "metadata": {
      "needs_background": "light"
     },
     "output_type": "display_data"
    }
   ],
   "source": [
    "sns.heatmap(traf[['Hora','Durada','ID_Modulo','ID_Apa','ID_Aci','ID_Us']],cmap=\"Blues\")"
   ]
  },
  {
   "cell_type": "markdown",
   "id": "f4488e52",
   "metadata": {},
   "source": [
    "### Exercici 4. Continuant amb les dades de tema esportiu, selecciona un atribut i calcula la mitjana geomètrica i la mitjana harmònica"
   ]
  },
  {
   "cell_type": "markdown",
   "id": "afc608a9",
   "metadata": {},
   "source": [
    "#### Seleccionem l'atribut BytesI"
   ]
  },
  {
   "cell_type": "markdown",
   "id": "2f5f8165",
   "metadata": {},
   "source": [
    "#### Calculem la mitjana geomètrica"
   ]
  },
  {
   "cell_type": "code",
   "execution_count": 125,
   "id": "c9650929",
   "metadata": {},
   "outputs": [
    {
     "name": "stdout",
     "output_type": "stream",
     "text": [
      "La mitjana geomètrica es 876.8949265539911 bytes\n"
     ]
    }
   ],
   "source": [
    "from scipy import stats\n",
    "mg=stats.gmean(traf['BytesI'],axis=0)\n",
    "print(\"La mitjana geomètrica es \" + str(mg) + \" bytes\")"
   ]
  },
  {
   "cell_type": "markdown",
   "id": "8716e315",
   "metadata": {},
   "source": [
    "#### La mitjana geomètrica es útil quan volem comparar coses amb propietats molt diferents."
   ]
  },
  {
   "cell_type": "markdown",
   "id": "07a7227b",
   "metadata": {},
   "source": [
    "#### Calculem la mitjana harmònica"
   ]
  },
  {
   "cell_type": "code",
   "execution_count": 128,
   "id": "9ca0b861",
   "metadata": {},
   "outputs": [
    {
     "name": "stdout",
     "output_type": "stream",
     "text": [
      "La mitjana harmònica es 865.4523372205658 bytes\n"
     ]
    }
   ],
   "source": [
    "mg=statistics.harmonic_mean(traf['BytesI'])\n",
    "print(\"La mitjana harmònica es \" + str(mg) + \" bytes\")\n"
   ]
  },
  {
   "cell_type": "markdown",
   "id": "0cd58f19",
   "metadata": {},
   "source": [
    "#### Aquesta mitja es bona per utilitzar grans valors atipics, pero els petits ho empitjoren tot"
   ]
  },
  {
   "cell_type": "code",
   "execution_count": null,
   "id": "b8fee1c3",
   "metadata": {},
   "outputs": [],
   "source": []
  }
 ],
 "metadata": {
  "kernelspec": {
   "display_name": "Python 3 (ipykernel)",
   "language": "python",
   "name": "python3"
  },
  "language_info": {
   "codemirror_mode": {
    "name": "ipython",
    "version": 3
   },
   "file_extension": ".py",
   "mimetype": "text/x-python",
   "name": "python",
   "nbconvert_exporter": "python",
   "pygments_lexer": "ipython3",
   "version": "3.9.12"
  }
 },
 "nbformat": 4,
 "nbformat_minor": 5
}
